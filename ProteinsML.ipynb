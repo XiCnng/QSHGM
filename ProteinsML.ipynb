{
  "cells": [
    {
      "cell_type": "code",
      "execution_count": null,
      "metadata": {
        "id": "E4hJD33EwutU"
      },
      "outputs": [],
      "source": [
        "# only run this cell if you are in colab. Don't run the cell in a local computer.\n",
        "!unzip qshgm-code-main.zip"
      ]
    },
    {
      "cell_type": "markdown",
      "metadata": {
        "id": "MiJLlGK4iMS6"
      },
      "source": [
        "***Implementation of Support Vector Classifier, K-Nearest Neighbors, and Random Forest Classifier in the classification of Bacterial Amino Acids (Qs Enzyme or Receptor.)***"
      ]
    },
    {
      "cell_type": "code",
      "execution_count": 49,
      "metadata": {
        "id": "iC1AvOUX-_Ao"
      },
      "outputs": [],
      "source": [
        "import numpy as np\n",
        "import sklearn\n",
        "from sklearn import metrics\n",
        "from sklearn import preprocessing\n",
        "from sklearn.ensemble import RandomForestClassifier\n",
        "from sklearn.neighbors import KNeighborsClassifier\n",
        "from sklearn.model_selection import train_test_split, cross_val_score"
      ]
    },
    {
      "cell_type": "code",
      "execution_count": 50,
      "metadata": {
        "id": "atzotCMTXD8R"
      },
      "outputs": [],
      "source": [
        "# Define the list of estimators (models) to evaluate\n",
        "estimators = [\"svm\", \"knn\", \"rf\"]\n",
        "\n",
        "data_path = \"qshgm-code-main/data/train/data.csv\"  # Change to the actual data path\n",
        "label_path = \"qshgm-code-main/data/train/label.csv\"  # Change to the actual label path\n"
      ]
    },
    {
      "cell_type": "code",
      "execution_count": 51,
      "metadata": {
        "id": "lxQPUQHs-DI1"
      },
      "outputs": [],
      "source": [
        "# define models and hyperparameters\n",
        "def model(model, data, label):\n",
        "    if model == \"svm\":\n",
        "        svm = sklearn.svm.SVC(C=4, gamma=0.125, kernel='rbf', probability=True)\n",
        "        svm.fit(data, label)\n",
        "        return svm\n",
        "    if model == \"knn\":\n",
        "        knn = KNeighborsClassifier(n_neighbors=5)\n",
        "        knn.fit(data, label)\n",
        "        return knn\n",
        "    if model == \"rf\":\n",
        "        rf = RandomForestClassifier(n_estimators=122, criterion='gini', max_depth=55)\n",
        "        rf.fit(data, label)\n",
        "        return rf\n"
      ]
    },
    {
      "cell_type": "code",
      "execution_count": 52,
      "metadata": {
        "colab": {
          "base_uri": "https://localhost:8080/"
        },
        "id": "ie3ej_qY-IqV",
        "outputId": "259db646-ff1e-4144-db3f-5bf541ceab68"
      },
      "outputs": [
        {
          "name": "stdout",
          "output_type": "stream",
          "text": [
            "[[0.19417476 0.08277977 0.24466019 ... 0.29341963 0.13592233 0.06407767]\n",
            " [0.19067797 0.09634255 0.10677966 ... 0.28625236 0.20762712 0.0559322 ]\n",
            " [0.2991453  0.0242915  0.32307692 ... 0.1671415  0.14957265 0.09871795]\n",
            " ...\n",
            " [0.22522523 0.03072546 0.27243243 ... 0.26906907 0.02522523 0.05351351]\n",
            " [0.16786571 0.0136312  0.21151079 ... 0.29842793 0.06714628 0.09496403]\n",
            " [0.16788767 0.04511278 0.27692308 ... 0.22357889 0.05982906 0.10476191]]\n"
          ]
        }
      ],
      "source": [
        "# Read data\n",
        "data = np.loadtxt(data_path, delimiter=',')\n",
        "label = np.loadtxt(label_path, delimiter=',')\n",
        "\n",
        "# Min-max scaler\n",
        "scaler = preprocessing.MinMaxScaler(feature_range=(0, 1)).fit(data)\n",
        "data = scaler.transform(data)\n",
        "print(data)"
      ]
    },
    {
      "cell_type": "code",
      "execution_count": 53,
      "metadata": {
        "id": "kNUUCF01_m2a"
      },
      "outputs": [],
      "source": [
        "# Split data into training and testing sets with an 80:20 ratio\n",
        "data_train, data_test, label_train, label_test = train_test_split(data, label, test_size=0.2, random_state=42)"
      ]
    },
    {
      "cell_type": "markdown",
      "metadata": {
        "id": "uTQ_xWd6f6cj"
      },
      "source": [
        "***Train the 3 Machine Learning classifiers on the bacterial amino acids data.***"
      ]
    },
    {
      "cell_type": "code",
      "execution_count": 54,
      "metadata": {
        "id": "rbALtLt0_w-A"
      },
      "outputs": [],
      "source": [
        "# Takes approximately 40 mins to train. Be patient.\n",
        "results = {}\n",
        "\n",
        "# Evaluate each model using cross-validation\n",
        "for estimator in estimators:\n",
        "    model_instance = model(estimator, data_train, label_train)\n",
        "\n",
        "    # Perform cross-validation and calculate evaluation metrics\n",
        "    cv_accuracy = cross_val_score(model_instance, data_train, label_train, cv=3, scoring='accuracy')\n",
        "    cv_precision = cross_val_score(model_instance, data_train, label_train, cv=3, scoring='precision')\n",
        "    cv_recall = cross_val_score(model_instance, data_train, label_train, cv=3, scoring='recall')\n",
        "    cv_f1 = cross_val_score(model_instance, data_train, label_train, cv=3, scoring='f1')\n",
        "\n",
        "    results[estimator] = {\n",
        "        'Accuracy': np.mean(cv_accuracy),\n",
        "        'Precision': np.mean(cv_precision),\n",
        "        'Recall': np.mean(cv_recall),\n",
        "        'F1': np.mean(cv_f1)\n",
        "    }"
      ]
    },
    {
      "cell_type": "code",
      "execution_count": 55,
      "metadata": {
        "colab": {
          "base_uri": "https://localhost:8080/"
        },
        "id": "F7J5wUBlBqTK",
        "outputId": "536eb3e5-5bbb-4cbd-dcfc-4970ae906d05"
      },
      "outputs": [
        {
          "name": "stdout",
          "output_type": "stream",
          "text": [
            "svm: [Accuracy: 0.8235, Precision: 0.7925, Recall: 0.8388, F1: 0.8150]\n",
            "knn: [Accuracy: 0.8541, Precision: 0.7868, Recall: 0.9399, F1: 0.8566]\n",
            "rf: [Accuracy: 0.8892, Precision: 0.8957, Recall: 0.8594, F1: 0.8779]\n"
          ]
        }
      ],
      "source": [
        "# Print the results for all models\n",
        "for estimator, metrics in results.items():\n",
        "    print(f'{estimator}: [Accuracy: {metrics[\"Accuracy\"]:.4f}, Precision: {metrics[\"Precision\"]:.4f}, Recall: {metrics[\"Recall\"]:.4f}, F1: {metrics[\"F1\"]:.4f}]')"
      ]
    },
    {
      "cell_type": "markdown",
      "metadata": {
        "id": "BrGLayQbguVH"
      },
      "source": [
        "***Use the 3 ML classifiers to determine whether a bacterial amino acid is a QS enzyme or a receptor.***"
      ]
    },
    {
      "cell_type": "code",
      "execution_count": 57,
      "metadata": {
        "colab": {
          "base_uri": "https://localhost:8080/"
        },
        "id": "KCpEp02Srx2F",
        "outputId": "330bd18b-c6a9-470f-8953-d5945933622e"
      },
      "outputs": [
        {
          "name": "stdout",
          "output_type": "stream",
          "text": [
            "svm (Cross-Validation): [Accuracy: 0.8242, Precision: 0.7927, Recall: 0.8346, F1: 0.8131]\n",
            "svm (Test Set Predictions): [0. 1. 0. ... 1. 0. 0.]\n",
            "knn (Cross-Validation): [Accuracy: 0.8631, Precision: 0.7960, Recall: 0.9428, F1: 0.8632]\n",
            "knn (Test Set Predictions): [0. 1. 0. ... 1. 0. 1.]\n",
            "rf (Cross-Validation): [Accuracy: 0.8945, Precision: 0.8975, Recall: 0.8690, F1: 0.8830]\n",
            "rf (Test Set Predictions): [0. 1. 0. ... 1. 0. 1.]\n"
          ]
        }
      ],
      "source": [
        "# Takes 5 mins to classify test data.\n",
        "from sklearn import metrics  # Import the metrics module\n",
        "\n",
        "# Create a dictionary to store the results and predicted labels\n",
        "results = {}\n",
        "\n",
        "# Evaluate each model using cross-validation and make predictions on the test set\n",
        "for estimator in estimators:\n",
        "    model_instance = model(estimator, data_train, label_train)\n",
        "\n",
        "    # Make predictions on the test set\n",
        "    test_predictions = model_instance.predict(data_test)\n",
        "\n",
        "    # Calculate evaluation metrics on the test set for this model with zero_division=0\n",
        "    accuracy = metrics.accuracy_score(label_test, test_predictions)\n",
        "    precision = metrics.precision_score(label_test, test_predictions, zero_division=0)\n",
        "    recall = metrics.recall_score(label_test, test_predictions, zero_division=0)\n",
        "    f1 = metrics.f1_score(label_test, test_predictions, zero_division=0)\n",
        "\n",
        "\n",
        "    results[estimator] = {\n",
        "        'Accuracy': accuracy,\n",
        "        'Precision': precision,\n",
        "        'Recall': recall,\n",
        "        'F1': f1,\n",
        "        'Test_Predictions': test_predictions\n",
        "    }\n",
        "\n",
        "# Print the results and predicted labels for all models\n",
        "for estimator, metrics in results.items():\n",
        "    print(f'{estimator} (Cross-Validation): [Accuracy: {metrics[\"Accuracy\"]:.4f}, Precision: {metrics[\"Precision\"]:.4f}, Recall: {metrics[\"Recall\"]:.4f}, F1: {metrics[\"F1\"]:.4f}]')\n",
        "    print(f'{estimator} (Test Set Predictions): {metrics[\"Test_Predictions\"]}')\n"
      ]
    },
    {
      "cell_type": "markdown",
      "metadata": {
        "id": "XsmTsqnPhr37"
      },
      "source": [
        "***Print the results and the first 20 predicted labels for all models.***"
      ]
    },
    {
      "cell_type": "code",
      "execution_count": 58,
      "metadata": {
        "colab": {
          "base_uri": "https://localhost:8080/"
        },
        "id": "b4XRh05JdfKF",
        "outputId": "ef817f47-1092-4286-b2e2-b0e9945fc133"
      },
      "outputs": [
        {
          "name": "stdout",
          "output_type": "stream",
          "text": [
            "svm (Cross-Validation): [Accuracy: 0.8242, Precision: 0.7927, Recall: 0.8346, F1: 0.8131]\n",
            "svm (Test Set Predictions): [0. 1. 0. 0. 0. 1. 1. 0. 0. 0. 0. 1. 1. 0. 0. 0. 1. 0. 1. 1.]\n",
            "knn (Cross-Validation): [Accuracy: 0.8631, Precision: 0.7960, Recall: 0.9428, F1: 0.8632]\n",
            "knn (Test Set Predictions): [0. 1. 0. 0. 0. 1. 1. 0. 1. 0. 0. 1. 1. 0. 1. 0. 1. 0. 1. 1.]\n",
            "rf (Cross-Validation): [Accuracy: 0.8945, Precision: 0.8975, Recall: 0.8690, F1: 0.8830]\n",
            "rf (Test Set Predictions): [0. 1. 0. 0. 0. 0. 1. 0. 1. 0. 0. 1. 1. 0. 0. 0. 1. 0. 1. 1.]\n"
          ]
        }
      ],
      "source": [
        "# Print the results and the first 20 predicted labels for all models\n",
        "for estimator, metrics in results.items():\n",
        "    print(f'{estimator} (Cross-Validation): [Accuracy: {metrics[\"Accuracy\"]:.4f}, Precision: {metrics[\"Precision\"]:.4f}, Recall: {metrics[\"Recall\"]:.4f}, F1: {metrics[\"F1\"]:.4f}]')\n",
        "    print(f'{estimator} (Test Set Predictions): {metrics[\"Test_Predictions\"][:20]}')"
      ]
    }
  ],
  "metadata": {
    "colab": {
      "provenance": []
    },
    "kernelspec": {
      "display_name": "Python 3",
      "name": "python3"
    },
    "language_info": {
      "name": "python"
    }
  },
  "nbformat": 4,
  "nbformat_minor": 0
}
